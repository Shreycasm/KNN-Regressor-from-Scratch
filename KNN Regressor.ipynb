{
 "cells": [
  {
   "cell_type": "code",
   "execution_count": 1,
   "id": "6f8db166",
   "metadata": {
    "ExecuteTime": {
     "end_time": "2024-03-11T14:05:09.925401Z",
     "start_time": "2024-03-11T14:05:08.754610Z"
    }
   },
   "outputs": [],
   "source": [
    "import numpy as np\n",
    "import pandas as pd\n",
    "from sklearn.model_selection import train_test_split\n",
    "from sklearn.preprocessing import StandardScaler\n",
    "from sklearn.datasets import load_breast_cancer\n",
    "from sklearn.neighbors import KNeighborsRegressor\n",
    "from sklearn.datasets import fetch_openml\n",
    "from sklearn.metrics import r2_score"
   ]
  },
  {
   "cell_type": "code",
   "execution_count": 2,
   "id": "f250a9b7",
   "metadata": {
    "ExecuteTime": {
     "end_time": "2024-03-11T14:05:09.959147Z",
     "start_time": "2024-03-11T14:05:09.925401Z"
    }
   },
   "outputs": [
    {
     "name": "stderr",
     "output_type": "stream",
     "text": [
      "C:\\Users\\shrey\\AppData\\Local\\anaconda3\\Lib\\site-packages\\sklearn\\datasets\\_openml.py:303: UserWarning: Multiple active versions of the dataset matching the name boston exist. Versions may be fundamentally different, returning version 1.\n",
      "  warn(\n",
      "C:\\Users\\shrey\\AppData\\Local\\anaconda3\\Lib\\site-packages\\sklearn\\datasets\\_openml.py:1002: FutureWarning: The default value of `parser` will change from `'liac-arff'` to `'auto'` in 1.4. You can set `parser='auto'` to silence this warning. Therefore, an `ImportError` will be raised from 1.4 if the dataset is dense and pandas is not installed. Note that the pandas parser may return different data types. See the Notes Section in fetch_openml's API doc for details.\n",
      "  warn(\n"
     ]
    }
   ],
   "source": [
    "data = fetch_openml(name='boston')\n",
    "values = data.data\n",
    "columns = data.feature_names\n",
    "target = np.array(data.target)\n",
    "df = pd.concat([pd.DataFrame(values, columns=columns), pd.Series(target, name=\"target\")], axis=1)"
   ]
  },
  {
   "cell_type": "code",
   "execution_count": 3,
   "id": "30eb7ad8",
   "metadata": {
    "ExecuteTime": {
     "end_time": "2024-03-11T14:05:09.984161Z",
     "start_time": "2024-03-11T14:05:09.962272Z"
    }
   },
   "outputs": [],
   "source": [
    "X_train,X_test , y_train, y_test = train_test_split(values, target, test_size=0.3, random_state=0)\n",
    "scaler = StandardScaler()\n",
    "scaled_train = scaler.fit_transform(X_train)\n",
    "scaled_test = scaler.transform(X_test)"
   ]
  },
  {
   "cell_type": "markdown",
   "id": "74c54612",
   "metadata": {},
   "source": [
    "# Using Sklearn's Implementation"
   ]
  },
  {
   "cell_type": "code",
   "execution_count": 4,
   "id": "d2f594a7",
   "metadata": {
    "ExecuteTime": {
     "end_time": "2024-03-11T14:05:09.998728Z",
     "start_time": "2024-03-11T14:05:09.986993Z"
    }
   },
   "outputs": [
    {
     "data": {
      "text/plain": [
       "0.3858841302119884"
      ]
     },
     "execution_count": 4,
     "metadata": {},
     "output_type": "execute_result"
    }
   ],
   "source": [
    "knn = KNeighborsRegressor()\n",
    "knn.fit(scaled_train, y_train)\n",
    "pred = knn.predict(scaled_test)\n",
    "r2_score(pred, y_test)"
   ]
  },
  {
   "cell_type": "markdown",
   "id": "202af4c1",
   "metadata": {},
   "source": [
    "# Using self made class¶"
   ]
  },
  {
   "cell_type": "code",
   "execution_count": 5,
   "id": "563fd822",
   "metadata": {
    "ExecuteTime": {
     "end_time": "2024-03-11T14:05:10.207783Z",
     "start_time": "2024-03-11T14:05:10.000209Z"
    }
   },
   "outputs": [
    {
     "data": {
      "text/plain": [
       "0.3858841302119884"
      ]
     },
     "execution_count": 5,
     "metadata": {},
     "output_type": "execute_result"
    }
   ],
   "source": [
    "class raw_knn_regressor:\n",
    "    def __init__(self, n_neigbours=5):\n",
    "        self.n_neigbours = n_neigbours\n",
    "        self.X_train = None\n",
    "        self.y_train = None\n",
    "\n",
    "    def fit(self, X_train, y_train):\n",
    "        self.X_train = X_train\n",
    "        self.y_train = y_train\n",
    "\n",
    "    def predict(self, X_test):\n",
    "        y_pred = []\n",
    "        for i in X_test:\n",
    "            distances = []\n",
    "            for j in self.X_train:\n",
    "                distances.append(self.dictance_calculation(i, j))\n",
    "\n",
    "            k_loc_n_distance = sorted(list(enumerate(distances)),\n",
    "                                      key=lambda x: x[1])[0:self.n_neigbours]\n",
    "\n",
    "            means = self.mean_value(k_loc_n_distance)\n",
    "\n",
    "            y_pred.append(means)\n",
    "\n",
    "    return np.array(y_pred)\n",
    "\n",
    "    def dictance_calculation(self, i, j):\n",
    "        return np.linalg.norm(i - j)\n",
    "\n",
    "    def mean_value(self, k_loc_n_distance):\n",
    "        values = []\n",
    "        for i in k_loc_n_distance:\n",
    "            values.append(self.y_train[i[0]])\n",
    "        return (np.mean(values))\n",
    "\n",
    "\n",
    "knn1 = raw_knn_regressor()\n",
    "knn1.fit(scaled_train, y_train)\n",
    "pred = knn1.predict(scaled_test)\n",
    "r2_score(pred, y_test)"
   ]
  },
  {
   "cell_type": "code",
   "execution_count": null,
   "id": "72aa4b72",
   "metadata": {},
   "outputs": [],
   "source": []
  }
 ],
 "metadata": {
  "kernelspec": {
   "display_name": "Python 3 (ipykernel)",
   "language": "python",
   "name": "python3"
  },
  "language_info": {
   "codemirror_mode": {
    "name": "ipython",
    "version": 3
   },
   "file_extension": ".py",
   "mimetype": "text/x-python",
   "name": "python",
   "nbconvert_exporter": "python",
   "pygments_lexer": "ipython3",
   "version": "3.11.5"
  },
  "toc": {
   "base_numbering": 1,
   "nav_menu": {},
   "number_sections": true,
   "sideBar": true,
   "skip_h1_title": false,
   "title_cell": "Table of Contents",
   "title_sidebar": "Contents",
   "toc_cell": false,
   "toc_position": {},
   "toc_section_display": true,
   "toc_window_display": false
  },
  "varInspector": {
   "cols": {
    "lenName": 16,
    "lenType": 16,
    "lenVar": 40
   },
   "kernels_config": {
    "python": {
     "delete_cmd_postfix": "",
     "delete_cmd_prefix": "del ",
     "library": "var_list.py",
     "varRefreshCmd": "print(var_dic_list())"
    },
    "r": {
     "delete_cmd_postfix": ") ",
     "delete_cmd_prefix": "rm(",
     "library": "var_list.r",
     "varRefreshCmd": "cat(var_dic_list()) "
    }
   },
   "types_to_exclude": [
    "module",
    "function",
    "builtin_function_or_method",
    "instance",
    "_Feature"
   ],
   "window_display": false
  }
 },
 "nbformat": 4,
 "nbformat_minor": 5
}
